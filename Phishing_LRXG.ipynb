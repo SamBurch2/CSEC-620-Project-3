{
  "cells": [
    {
      "cell_type": "code",
      "execution_count": 1,
      "id": "e670648f-8939-46d0-9493-0d6a22b6836e",
      "metadata": {
        "colab": {
          "base_uri": "https://localhost:8080/"
        },
        "id": "e670648f-8939-46d0-9493-0d6a22b6836e",
        "outputId": "a6e4173c-c254-4d34-8dc2-e8c663f82463"
      },
      "outputs": [
        {
          "output_type": "stream",
          "name": "stdout",
          "text": [
            "Missing Values:\n",
            " qty_dot_url             0\n",
            "qty_hyphen_url          0\n",
            "qty_underline_url       0\n",
            "qty_slash_url           0\n",
            "qty_questionmark_url    0\n",
            "                       ..\n",
            "qty_redirects           0\n",
            "url_google_index        0\n",
            "domain_google_index     0\n",
            "url_shortened           0\n",
            "phishing                0\n",
            "Length: 112, dtype: int64\n"
          ]
        }
      ],
      "source": [
        "import pandas as pd\n",
        "from sklearn.model_selection import train_test_split\n",
        "from sklearn.ensemble import RandomForestClassifier\n",
        "from sklearn.preprocessing import StandardScaler, LabelEncoder\n",
        "from sklearn.metrics import accuracy_score, classification_report\n",
        "\n",
        "\n",
        "# Load the dataset from a local CSV file\n",
        "file_path = \"dataset_small.csv\"  # Adjust the path if necessary\n",
        "data = pd.read_csv(file_path)\n",
        "\n",
        "# Display the first few rows of the dataset\n",
        "data.head()\n",
        "\n",
        "# Check for missing values\n",
        "print(\"Missing Values:\\n\", data.isnull().sum())\n",
        "\n",
        "# Drop rows with missing values (if any)\n",
        "data = data.dropna()\n",
        "\n",
        "# Separate features (X) and target (y)\n",
        "X = data.drop(\"phishing\", axis=1)\n",
        "y = data[\"phishing\"]\n",
        "\n",
        "# Normalize the features\n",
        "scaler = StandardScaler()\n",
        "X_scaled = scaler.fit_transform(X)\n",
        "\n"
      ]
    },
    {
      "cell_type": "code",
      "execution_count": 2,
      "id": "d3ec6887-5fd4-4cff-8a13-e80818066e01",
      "metadata": {
        "colab": {
          "base_uri": "https://localhost:8080/"
        },
        "id": "d3ec6887-5fd4-4cff-8a13-e80818066e01",
        "outputId": "7e21c753-7cb4-43c9-ffe6-763235bbd78f"
      },
      "outputs": [
        {
          "output_type": "stream",
          "name": "stdout",
          "text": [
            "Training Set Size: 41051\n",
            "Testing Set Size: 17594\n"
          ]
        }
      ],
      "source": [
        "# Split the dataset into training (70%) and testing (30%) sets\n",
        "X_train, X_test, y_train, y_test = train_test_split(X_scaled, y, test_size=0.3, random_state=42)\n",
        "\n",
        "print(f\"Training Set Size: {len(X_train)}\")\n",
        "print(f\"Testing Set Size: {len(X_test)}\")\n"
      ]
    },
    {
      "cell_type": "markdown",
      "source": [
        "# Random Forest"
      ],
      "metadata": {
        "id": "SxtjyEIR-dN-"
      },
      "id": "SxtjyEIR-dN-"
    },
    {
      "cell_type": "code",
      "execution_count": 3,
      "id": "b9f04922-bbd1-46a7-ae0f-f4235085831e",
      "metadata": {
        "colab": {
          "base_uri": "https://localhost:8080/"
        },
        "id": "b9f04922-bbd1-46a7-ae0f-f4235085831e",
        "outputId": "39c8d3a2-c200-44e3-e93a-82295a60df91"
      },
      "outputs": [
        {
          "output_type": "stream",
          "name": "stdout",
          "text": [
            "Model training complete.\n"
          ]
        }
      ],
      "source": [
        "# Create and train the Random Forest classifier\n",
        "model = RandomForestClassifier(random_state=42, n_estimators=100)\n",
        "model.fit(X_train, y_train)\n",
        "\n",
        "print(\"Model training complete.\")\n"
      ]
    },
    {
      "cell_type": "code",
      "execution_count": 4,
      "id": "be0fdc43-4731-4327-bd37-c464a8f0e0b6",
      "metadata": {
        "colab": {
          "base_uri": "https://localhost:8080/"
        },
        "id": "be0fdc43-4731-4327-bd37-c464a8f0e0b6",
        "outputId": "af6c8258-4c44-4005-de8c-3a111515ec6d"
      },
      "outputs": [
        {
          "output_type": "stream",
          "name": "stdout",
          "text": [
            "Model Accuracy: 95.74%\n",
            "Classification Report:\n",
            "              precision    recall  f1-score   support\n",
            "\n",
            "           0       0.96      0.95      0.96      8428\n",
            "           1       0.95      0.96      0.96      9166\n",
            "\n",
            "    accuracy                           0.96     17594\n",
            "   macro avg       0.96      0.96      0.96     17594\n",
            "weighted avg       0.96      0.96      0.96     17594\n",
            "\n"
          ]
        }
      ],
      "source": [
        "# Make predictions on the test set\n",
        "y_pred = model.predict(X_test)\n",
        "\n",
        "# Evaluate the model\n",
        "accuracy = accuracy_score(y_test, y_pred)\n",
        "print(f\"Model Accuracy: {accuracy * 100:.2f}%\")\n",
        "\n",
        "# Detailed classification report\n",
        "print(\"Classification Report:\")\n",
        "print(classification_report(y_test, y_pred))\n"
      ]
    },
    {
      "cell_type": "code",
      "execution_count": 5,
      "id": "7d62f407-5e7e-4cae-a912-7e5906172787",
      "metadata": {
        "colab": {
          "base_uri": "https://localhost:8080/",
          "height": 772
        },
        "id": "7d62f407-5e7e-4cae-a912-7e5906172787",
        "outputId": "969d7eb0-3c36-4d57-e657-68bef4c0dba5"
      },
      "outputs": [
        {
          "output_type": "display_data",
          "data": {
            "text/plain": [
              "<Figure size 1000x600 with 1 Axes>"
            ],
            "image/png": "[encoded data removed]"
          },
          "metadata": {}
        },
        {
          "output_type": "stream",
          "name": "stdout",
          "text": [
            "Top 10 Important Features:\n",
            "                    Feature  Importance\n",
            "57         directory_length    0.112241\n",
            "100  time_domain_activation    0.083106\n",
            "18               length_url    0.048585\n",
            "43      qty_slash_directory    0.034692\n",
            "58             qty_dot_file    0.033635\n",
            "105            ttl_hostname    0.033595\n",
            "99                   asn_ip    0.032951\n",
            "55     qty_dollar_directory    0.031995\n",
            "3             qty_slash_url    0.031902\n",
            "97            time_response    0.031832\n"
          ]
        }
      ],
      "source": [
        "import matplotlib.pyplot as plt\n",
        "import pandas as pd\n",
        "\n",
        "# Get feature importance and feature names\n",
        "feature_importances = model.feature_importances_\n",
        "features = X.columns\n",
        "\n",
        "# Create a DataFrame for sorting and selection\n",
        "importance_df = pd.DataFrame({\n",
        "    \"Feature\": features,\n",
        "    \"Importance\": feature_importances\n",
        "})\n",
        "\n",
        "# Sort by importance in descending order and take the top 10\n",
        "top_features = importance_df.sort_values(by=\"Importance\", ascending=False).head(10)\n",
        "\n",
        "# Plot the top 10 important features\n",
        "plt.figure(figsize=(10, 6))\n",
        "plt.barh(top_features[\"Feature\"], top_features[\"Importance\"], color=\"skyblue\")\n",
        "plt.xlabel(\"Feature Importance\")\n",
        "plt.title(\"Top 10 Important Features\")\n",
        "plt.gca().invert_yaxis()  # Reverse the order for better readability\n",
        "plt.show()\n",
        "\n",
        "# Print the top 10 features with their importance values\n",
        "print(\"Top 10 Important Features:\")\n",
        "print(top_features)\n"
      ]
    },
    {
      "cell_type": "code",
      "execution_count": 6,
      "id": "c776cac5-754a-493b-8da7-a40fe73266c9",
      "metadata": {
        "colab": {
          "base_uri": "https://localhost:8080/"
        },
        "id": "c776cac5-754a-493b-8da7-a40fe73266c9",
        "outputId": "b3638293-1095-4da1-f293-8abc83d45b72"
      },
      "outputs": [
        {
          "output_type": "stream",
          "name": "stderr",
          "text": [
            "/usr/local/lib/python3.10/dist-packages/torch/nn/modules/transformer.py:379: UserWarning: enable_nested_tensor is True, but self.use_nested_tensor is False because encoder_layer.self_attn.batch_first was not True(use batch_first for better inference performance)\n",
            "  warnings.warn(\n"
          ]
        },
        {
          "output_type": "stream",
          "name": "stdout",
          "text": [
            "Epoch 1/20, Loss: 0.0848, Validation Accuracy: 0.9120\n",
            "Epoch 2/20, Loss: 0.0512, Validation Accuracy: 0.9136\n",
            "Epoch 3/20, Loss: 0.0486, Validation Accuracy: 0.9187\n",
            "Epoch 4/20, Loss: 0.0282, Validation Accuracy: 0.9199\n",
            "Epoch 5/20, Loss: 0.0356, Validation Accuracy: 0.9275\n",
            "Epoch 6/20, Loss: 0.0366, Validation Accuracy: 0.9263\n",
            "Epoch 7/20, Loss: 0.0376, Validation Accuracy: 0.9297\n",
            "Epoch 8/20, Loss: 0.0178, Validation Accuracy: 0.9296\n",
            "Epoch 9/20, Loss: 0.0093, Validation Accuracy: 0.9288\n",
            "Epoch 10/20, Loss: 0.0202, Validation Accuracy: 0.9276\n",
            "Epoch 11/20, Loss: 0.0167, Validation Accuracy: 0.9285\n",
            "Epoch 12/20, Loss: 0.0167, Validation Accuracy: 0.9281\n",
            "Epoch 13/20, Loss: 0.0213, Validation Accuracy: 0.9329\n",
            "Epoch 14/20, Loss: 0.0163, Validation Accuracy: 0.9302\n",
            "Epoch 15/20, Loss: 0.0159, Validation Accuracy: 0.9312\n",
            "Epoch 16/20, Loss: 0.0135, Validation Accuracy: 0.9305\n",
            "Epoch 17/20, Loss: 0.0116, Validation Accuracy: 0.9313\n",
            "Epoch 18/20, Loss: 0.0112, Validation Accuracy: 0.9291\n",
            "Epoch 19/20, Loss: 0.0146, Validation Accuracy: 0.9311\n",
            "Epoch 20/20, Loss: 0.0113, Validation Accuracy: 0.9292\n",
            "\n",
            "Classification Report:\n",
            "              precision    recall  f1-score   support\n",
            "\n",
            "           0       0.92      0.94      0.93      5596\n",
            "           1       0.94      0.92      0.93      6133\n",
            "\n",
            "    accuracy                           0.93     11729\n",
            "   macro avg       0.93      0.93      0.93     11729\n",
            "weighted avg       0.93      0.93      0.93     11729\n",
            "\n"
          ]
        }
      ],
      "source": [
        "import torch\n",
        "import torch.nn as nn\n",
        "from sklearn.model_selection import train_test_split\n",
        "from sklearn.preprocessing import StandardScaler\n",
        "from sklearn.metrics import classification_report, accuracy_score\n",
        "\n",
        "# Prepare data\n",
        "X_train, X_test, y_train, y_test = train_test_split(X, y, test_size=0.2, random_state=42)\n",
        "\n",
        "# Standardize numerical features\n",
        "scaler = StandardScaler()\n",
        "X_train = scaler.fit_transform(X_train)\n",
        "X_test = scaler.transform(X_test)\n",
        "\n",
        "# Convert data to PyTorch tensors\n",
        "X_train_tensor = torch.tensor(X_train, dtype=torch.float32)\n",
        "y_train_tensor = torch.tensor(y_train.values, dtype=torch.long)\n",
        "X_test_tensor = torch.tensor(X_test, dtype=torch.float32)\n",
        "y_test_tensor = torch.tensor(y_test.values, dtype=torch.long)\n",
        "\n",
        "class TabularTransformer(nn.Module):\n",
        "    def __init__(self, input_dim, n_heads, n_layers, hidden_dim, output_dim):\n",
        "        super(TabularTransformer, self).__init__()\n",
        "        self.embedding = nn.Linear(input_dim, hidden_dim)\n",
        "\n",
        "        # Positional encoding (initial dimensions are placeholders)\n",
        "        self.positional_encoding = nn.Parameter(torch.randn(1, input_dim, hidden_dim))\n",
        "\n",
        "        # Transformer Encoder\n",
        "        encoder_layer = nn.TransformerEncoderLayer(\n",
        "            d_model=hidden_dim,\n",
        "            nhead=n_heads,\n",
        "            dim_feedforward=hidden_dim * 2,\n",
        "            activation=\"relu\",\n",
        "        )\n",
        "        self.transformer = nn.TransformerEncoder(encoder_layer, num_layers=n_layers)\n",
        "\n",
        "        # Classification head\n",
        "        self.fc = nn.Sequential(\n",
        "            nn.Linear(hidden_dim, hidden_dim // 2),\n",
        "            nn.ReLU(),\n",
        "            nn.Linear(hidden_dim // 2, output_dim),\n",
        "        )\n",
        "\n",
        "    def forward(self, x):\n",
        "        # Dynamically adjust positional encoding to match batch size\n",
        "        batch_size, seq_len = x.size()\n",
        "        positional_encoding = self.positional_encoding[:, :seq_len, :].expand(batch_size, seq_len, -1)\n",
        "\n",
        "        x = self.embedding(x).unsqueeze(1) + positional_encoding  # Add positional encoding\n",
        "        x = self.transformer(x.permute(1, 0, 2)).permute(1, 0, 2)  # Transformer expects seq_length first\n",
        "        x = x.mean(dim=1)  # Global Average Pooling\n",
        "        x = self.fc(x)\n",
        "        return x\n",
        "\n",
        "\n",
        "# Model Parameters\n",
        "input_dim = X_train.shape[1]\n",
        "hidden_dim = 128\n",
        "n_heads = 4\n",
        "n_layers = 2\n",
        "output_dim = 2  # Two classes: phishing or not\n",
        "\n",
        "# Initialize model, loss function, and optimizer\n",
        "model = TabularTransformer(input_dim, n_heads, n_layers, hidden_dim, output_dim)\n",
        "criterion = nn.CrossEntropyLoss()\n",
        "optimizer = torch.optim.Adam(model.parameters(), lr=0.001)\n",
        "\n",
        "# Training Loop\n",
        "n_epochs = 20\n",
        "batch_size = 64\n",
        "\n",
        "for epoch in range(n_epochs):\n",
        "    model.train()\n",
        "    for i in range(0, len(X_train_tensor), batch_size):\n",
        "        batch_X = X_train_tensor[i:i + batch_size]\n",
        "        batch_y = y_train_tensor[i:i + batch_size]\n",
        "\n",
        "        optimizer.zero_grad()\n",
        "        outputs = model(batch_X)\n",
        "        loss = criterion(outputs, batch_y)\n",
        "        loss.backward()\n",
        "        optimizer.step()\n",
        "\n",
        "    # Evaluate on validation set\n",
        "    model.eval()\n",
        "    with torch.no_grad():\n",
        "        val_outputs = model(X_test_tensor)\n",
        "        val_preds = torch.argmax(val_outputs, dim=1)\n",
        "        val_accuracy = accuracy_score(y_test, val_preds.numpy())\n",
        "    print(f\"Epoch {epoch + 1}/{n_epochs}, Loss: {loss.item():.4f}, Validation Accuracy: {val_accuracy:.4f}\")\n",
        "\n",
        "# Final Evaluation\n",
        "model.eval()\n",
        "with torch.no_grad():\n",
        "    test_outputs = model(X_test_tensor)\n",
        "    test_preds = torch.argmax(test_outputs, dim=1)\n",
        "    print(\"\\nClassification Report:\")\n",
        "    print(classification_report(y_test, test_preds.numpy()))\n"
      ]
    },
    {
      "cell_type": "code",
      "execution_count": 6,
      "id": "14c09c53-5331-47ea-b431-69ad1ece0b0e",
      "metadata": {
        "id": "14c09c53-5331-47ea-b431-69ad1ece0b0e"
      },
      "outputs": [],
      "source": []
    },
    {
      "cell_type": "markdown",
      "source": [
        "# Logical Regression"
      ],
      "metadata": {
        "id": "qSyaT0ip-_Dy"
      },
      "id": "qSyaT0ip-_Dy"
    },
    {
      "cell_type": "code",
      "source": [
        "import pandas as pd\n",
        "import numpy as np\n",
        "from sklearn.model_selection import train_test_split\n",
        "from sklearn.linear_model import LogisticRegression\n",
        "from sklearn.metrics import accuracy_score, classification_report\n",
        "from sklearn.preprocessing import StandardScaler\n",
        "\n",
        "# Load-u\n",
        "data = pd.read_csv('dataset_small.csv')\n",
        "X = data.drop('phishing', axis=1)\n",
        "y = data['phishing']\n",
        "\n",
        "# Split\n",
        "X_train, X_test, y_train, y_test = train_test_split(X, y, test_size=0.2, random_state=42)\n",
        "\n",
        "# Scaler\n",
        "scaler = StandardScaler()\n",
        "X_train_scaled = scaler.fit_transform(X_train)\n",
        "X_test_scaled = scaler.transform(X_test)\n",
        "\n",
        "# Model Training\n",
        "modelL = LogisticRegression(random_state=42, max_iter=1000)\n",
        "modelL.fit(X_train_scaled, y_train)\n",
        "\n",
        "# Predictions\n",
        "y_pred = modelL.predict(X_test_scaled)\n",
        "\n",
        "# Accuracy\n",
        "accuracy = accuracy_score(y_test, y_pred)\n",
        "print(f\"Accuracy: {accuracy:.2f}\")\n",
        "\n",
        "# Classification report\n",
        "print(\"\\nClassification Report:\")\n",
        "print(classification_report(y_test, y_pred))\n",
        "\n",
        "# Feature importance\n",
        "feature_importance = pd.DataFrame({'feature': X.columns, 'importance': abs(modelL.coef_[0])})\n",
        "feature_importance = feature_importance.sort_values('importance', ascending=False)\n",
        "print(\"\\nTop 10 Most Important Features:\")\n",
        "print(feature_importance.head(10))"
      ],
      "metadata": {
        "colab": {
          "base_uri": "https://localhost:8080/"
        },
        "id": "VTvy7oP5_E28",
        "outputId": "1f05046e-cc37-4c65-bff6-96dcd20590b4"
      },
      "id": "VTvy7oP5_E28",
      "execution_count": 14,
      "outputs": [
        {
          "output_type": "stream",
          "name": "stdout",
          "text": [
            "Accuracy: 0.90\n",
            "\n",
            "Classification Report:\n",
            "              precision    recall  f1-score   support\n",
            "\n",
            "           0       0.90      0.88      0.89      5596\n",
            "           1       0.89      0.91      0.90      6133\n",
            "\n",
            "    accuracy                           0.90     11729\n",
            "   macro avg       0.90      0.90      0.90     11729\n",
            "weighted avg       0.90      0.90      0.90     11729\n",
            "\n",
            "\n",
            "Top 10 Most Important Features:\n",
            "                       feature  importance\n",
            "93               params_length    2.266361\n",
            "18                  length_url    2.011554\n",
            "6                   qty_at_url    1.831467\n",
            "95                  qty_params    1.487234\n",
            "45         qty_equal_directory    1.394064\n",
            "100     time_domain_activation    1.233297\n",
            "57            directory_length    1.078727\n",
            "83              qty_and_params    1.039293\n",
            "48   qty_exclamation_directory    0.880464\n",
            "94          tld_present_params    0.870936\n"
          ]
        }
      ]
    },
    {
      "cell_type": "markdown",
      "source": [
        "# XG Boost"
      ],
      "metadata": {
        "id": "NtA3y7zsFJ4s"
      },
      "id": "NtA3y7zsFJ4s"
    },
    {
      "cell_type": "code",
      "source": [
        "import xgboost as xgb\n",
        "\n",
        "# Model\n",
        "modelX = xgb.XGBClassifier(random_state=42)\n",
        "modelX.fit(X_train, y_train)\n",
        "\n",
        "# Make predictions on the test set\n",
        "y_pred = modelX.predict(X_test)\n",
        "\n",
        "# Accuracy\n",
        "accuracy = accuracy_score(y_test, y_pred)\n",
        "print(f\"Accuracy: {accuracy:.2f}\")\n",
        "\n",
        "# Classification report\n",
        "print(\"\\nClassification Report:\")\n",
        "print(classification_report(y_test, y_pred))\n",
        "\n",
        "# Feature importance\n",
        "feature_importance = pd.DataFrame({'feature': X.columns, 'importance': modelX.feature_importances_})\n",
        "feature_importance = feature_importance.sort_values('importance')\n",
        "print(\"\\nTop 10 Most Important Features:\")\n",
        "print(feature_importance.head(10))"
      ],
      "metadata": {
        "colab": {
          "base_uri": "https://localhost:8080/"
        },
        "id": "FcYbsix1LAw_",
        "outputId": "6be21f00-395a-4445-ca4b-318a2246753e"
      },
      "id": "FcYbsix1LAw_",
      "execution_count": 15,
      "outputs": [
        {
          "output_type": "stream",
          "name": "stdout",
          "text": [
            "Accuracy: 0.96\n",
            "\n",
            "Classification Report:\n",
            "              precision    recall  f1-score   support\n",
            "\n",
            "           0       0.96      0.96      0.96      5596\n",
            "           1       0.96      0.96      0.96      6133\n",
            "\n",
            "    accuracy                           0.96     11729\n",
            "   macro avg       0.96      0.96      0.96     11729\n",
            "weighted avg       0.96      0.96      0.96     11729\n",
            "\n",
            "\n",
            "Top 10 Most Important Features:\n",
            "                 feature  importance\n",
            "55  qty_dollar_directory         0.0\n",
            "29      qty_tilde_domain         0.0\n",
            "30      qty_comma_domain         0.0\n",
            "31       qty_plus_domain         0.0\n",
            "32   qty_asterisk_domain         0.0\n",
            "33    qty_hashtag_domain         0.0\n",
            "34     qty_dollar_domain         0.0\n",
            "35    qty_percent_domain         0.0\n",
            "70         qty_plus_file         0.0\n",
            "68        qty_tilde_file         0.0\n"
          ]
        }
      ]
    }
  ],
  "metadata": {
    "kernelspec": {
      "display_name": "Python 3 (ipykernel)",
      "language": "python",
      "name": "python3"
    },
    "language_info": {
      "codemirror_mode": {
        "name": "ipython",
        "version": 3
      },
      "file_extension": ".py",
      "mimetype": "text/x-python",
      "name": "python",
      "nbconvert_exporter": "python",
      "pygments_lexer": "ipython3",
      "version": "3.10.14"
    },
    "colab": {
      "provenance": []
    }
  },
  "nbformat": 4,
  "nbformat_minor": 5
}